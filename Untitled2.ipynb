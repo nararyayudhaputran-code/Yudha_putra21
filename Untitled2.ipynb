{
  "nbformat": 4,
  "nbformat_minor": 0,
  "metadata": {
    "colab": {
      "provenance": [],
      "toc_visible": true,
      "authorship_tag": "ABX9TyPOzAo2jLCjEDRL+e1q7win",
      "include_colab_link": true
    },
    "kernelspec": {
      "name": "python3",
      "display_name": "Python 3"
    },
    "language_info": {
      "name": "python"
    }
  },
  "cells": [
    {
      "cell_type": "markdown",
      "metadata": {
        "id": "view-in-github",
        "colab_type": "text"
      },
      "source": [
        "<a href=\"https://colab.research.google.com/github/nararyayudhaputran-code/Yudha_putra21/blob/main/Untitled2.ipynb\" target=\"_parent\"><img src=\"https://colab.research.google.com/assets/colab-badge.svg\" alt=\"Open In Colab\"/></a>"
      ]
    },
    {
      "cell_type": "code",
      "execution_count": null,
      "metadata": {
        "id": "9ViXtvWKx8ed",
        "colab": {
          "base_uri": "https://localhost:8080/"
        },
        "outputId": "776531f4-0470-4501-fcd1-819ebf1db1d6"
      },
      "outputs": [
        {
          "output_type": "stream",
          "name": "stdout",
          "text": [
            "Yudha\n"
          ]
        }
      ],
      "source": [
        "print('Yudha')"
      ]
    },
    {
      "cell_type": "code",
      "source": [
        "print(\"Y'dha\")"
      ],
      "metadata": {
        "colab": {
          "base_uri": "https://localhost:8080/"
        },
        "id": "h05GVQil5e4j",
        "outputId": "6d248583-b032-4129-b186-cdc06893e9b2"
      },
      "execution_count": null,
      "outputs": [
        {
          "output_type": "stream",
          "name": "stdout",
          "text": [
            "Y'dha\n"
          ]
        }
      ]
    },
    {
      "cell_type": "code",
      "source": [
        "print('Y\\'dha')"
      ],
      "metadata": {
        "colab": {
          "base_uri": "https://localhost:8080/"
        },
        "id": "8h7pxtBC5uu9",
        "outputId": "902b4ffc-0ed8-4c58-afed-633b68bf3182"
      },
      "execution_count": null,
      "outputs": [
        {
          "output_type": "stream",
          "name": "stdout",
          "text": [
            "Y'dha\n"
          ]
        }
      ]
    },
    {
      "cell_type": "code",
      "source": [
        "print(\"Yudha Berkata,\\\"Makan sosis so nice\\\"\")"
      ],
      "metadata": {
        "colab": {
          "base_uri": "https://localhost:8080/"
        },
        "id": "NvBU0Z1W6Bc0",
        "outputId": "f7868ca1-d830-489f-f8b0-1ec321ccdfab"
      },
      "execution_count": null,
      "outputs": [
        {
          "output_type": "stream",
          "name": "stdout",
          "text": [
            "Yudha Berkata,\"Makan sosis so nice\"\n"
          ]
        }
      ]
    },
    {
      "cell_type": "code",
      "source": [
        "print('Yudha Berkata,\"Makan sosis so nice\"')"
      ],
      "metadata": {
        "colab": {
          "base_uri": "https://localhost:8080/"
        },
        "id": "e62Ax4Xw6ezW",
        "outputId": "8826f3c1-20ef-448b-d3cf-d489ecd7547e"
      },
      "execution_count": null,
      "outputs": [
        {
          "output_type": "stream",
          "name": "stdout",
          "text": [
            "Yudha Berkata,\"Makan sosis so nice\"\n"
          ]
        }
      ]
    },
    {
      "cell_type": "code",
      "source": [
        "print(\"Simpan file di local disk D\\\\MAN DEMAK\\\\KKA\")"
      ],
      "metadata": {
        "colab": {
          "base_uri": "https://localhost:8080/"
        },
        "id": "0b5Lk3J269uc",
        "outputId": "6ca297cd-2450-4c8e-ea63-84e237265c30"
      },
      "execution_count": null,
      "outputs": [
        {
          "output_type": "stream",
          "name": "stdout",
          "text": [
            "Simpan file di local disk D\\MAN DEMAK\\KKA\n"
          ]
        }
      ]
    },
    {
      "cell_type": "code",
      "source": [
        "nama_siswa_1='yudha'"
      ],
      "metadata": {
        "id": "3RcFZxemHL8p"
      },
      "execution_count": null,
      "outputs": []
    },
    {
      "cell_type": "code",
      "source": [
        "nama_siswa_2=\"tirta\""
      ],
      "metadata": {
        "id": "FjIndoOwHbfJ"
      },
      "execution_count": null,
      "outputs": []
    },
    {
      "cell_type": "code",
      "source": [
        "print(nama_siswa_1)"
      ],
      "metadata": {
        "colab": {
          "base_uri": "https://localhost:8080/"
        },
        "id": "uD7VJk5LHw9b",
        "outputId": "7e821983-3313-485b-9b69-8499017d84ba"
      },
      "execution_count": null,
      "outputs": [
        {
          "output_type": "stream",
          "name": "stdout",
          "text": [
            "yudha\n"
          ]
        }
      ]
    },
    {
      "cell_type": "code",
      "source": [
        "print(nama_siswa_1, nama_siswa_2)"
      ],
      "metadata": {
        "colab": {
          "base_uri": "https://localhost:8080/"
        },
        "id": "RMx1PPqAIH30",
        "outputId": "de3b73d7-739a-43e4-ad49-b92f06995a23"
      },
      "execution_count": null,
      "outputs": [
        {
          "output_type": "stream",
          "name": "stdout",
          "text": [
            "yudha tirta\n"
          ]
        }
      ]
    },
    {
      "cell_type": "code",
      "source": [
        "print(nama_siswa_1, nama_siswa_2,sep=\"_\")"
      ],
      "metadata": {
        "colab": {
          "base_uri": "https://localhost:8080/"
        },
        "id": "i08JBK9XIzkF",
        "outputId": "4eb8ed18-045a-43c1-a0fc-d9ff2027df61"
      },
      "execution_count": null,
      "outputs": [
        {
          "output_type": "stream",
          "name": "stdout",
          "text": [
            "yudha_tirta\n"
          ]
        }
      ]
    },
    {
      "cell_type": "code",
      "source": [
        "print(nama_siswa_1,nama_siswa_2,nama_siswa_1,sep=\"*\")"
      ],
      "metadata": {
        "colab": {
          "base_uri": "https://localhost:8080/"
        },
        "id": "KgvvEW3TJH6G",
        "outputId": "79a7b7b9-57da-4505-fc16-795e18bc46eb"
      },
      "execution_count": null,
      "outputs": [
        {
          "output_type": "stream",
          "name": "stdout",
          "text": [
            "yudha*tirta*yudha\n"
          ]
        }
      ]
    }
  ]
}